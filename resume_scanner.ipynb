{
 "cells": [
  {
   "cell_type": "markdown",
   "metadata": {},
   "source": [
    "### Build a Resume Scanner to check how well your Resume matches a Job Description"
   ]
  },
  {
   "cell_type": "code",
   "execution_count": null,
   "metadata": {},
   "outputs": [],
   "source": [
    "pip install docx2txt\n",
    "pip install PyPDF2\n",
    "pip install pdfreader\n",
    "pip install pdfminer\n",
    "pip install wordcloud\n",
    "pip install nltk"
   ]
  },
  {
   "cell_type": "markdown",
   "metadata": {},
   "source": [
    "### Import Libraries"
   ]
  },
  {
   "cell_type": "code",
   "execution_count": 1,
   "metadata": {},
   "outputs": [],
   "source": [
    "import io\n",
    "from pdfminer.converter import TextConverter\n",
    "from pdfminer.pdfinterp import PDFPageInterpreter\n",
    "from pdfminer.pdfinterp import PDFResourceManager\n",
    "from pdfminer.pdfpage import PDFPage\n",
    "\n",
    "# Docx resume\n",
    "import docx2txt\n",
    "\n",
    "#Wordcloud\n",
    "import re\n",
    "import operator\n",
    "from nltk.tokenize import word_tokenize \n",
    "from nltk.corpus import stopwords\n",
    "set(stopwords.words('english'))\n",
    "from wordcloud import WordCloud\n",
    "from nltk.probability import FreqDist\n",
    "import matplotlib.pyplot as plt\n",
    "\n",
    "from sklearn.feature_extraction.text import CountVectorizer\n",
    "from sklearn.metrics.pairwise import cosine_similarity\n"
   ]
  },
  {
   "cell_type": "markdown",
   "metadata": {},
   "source": [
    "### Read PDF Resume"
   ]
  },
  {
   "cell_type": "code",
   "execution_count": 2,
   "metadata": {},
   "outputs": [],
   "source": [
    "def read_pdf_resume(pdf_doc):\n",
    "    resource_manager = PDFResourceManager()\n",
    "    fake_file_handle = io.StringIO()\n",
    "    converter = TextConverter(resource_manager, fake_file_handle)\n",
    "    page_interpreter = PDFPageInterpreter(resource_manager, converter)\n",
    "    \n",
    "    with open(pdf_doc, 'rb') as fh:\n",
    "        for page in PDFPage.get_pages(fh, \n",
    "                                      caching=True,\n",
    "                                      check_extractable=True):\n",
    "            page_interpreter.process_page(page)\n",
    "            \n",
    "        text = fake_file_handle.getvalue()\n",
    "    \n",
    "    # close open handles\n",
    "    converter.close()\n",
    "    fake_file_handle.close()\n",
    "    \n",
    "    if text:\n",
    "        return text"
   ]
  },
  {
   "cell_type": "markdown",
   "metadata": {},
   "source": [
    "### Read Word Resume"
   ]
  },
  {
   "cell_type": "code",
   "execution_count": 3,
   "metadata": {},
   "outputs": [],
   "source": [
    "def read_word_resume(word_doc):\n",
    "    #resume = docx2txt.process(word_doc)\n",
    "    #text = ''.join(resume)\n",
    "    resume = docx2txt.process(word_doc)\n",
    "    resume = str(resume)\n",
    "    #print(resume)\n",
    "    text =  ''.join(resume)\n",
    "    text = text.replace(\"\\n\", \"\")\n",
    "    \n",
    "    if text:\n",
    "        return text\n",
    "    "
   ]
  },
  {
   "cell_type": "markdown",
   "metadata": {},
   "source": [
    "### Word Cloud"
   ]
  },
  {
   "cell_type": "code",
   "execution_count": 4,
   "metadata": {},
   "outputs": [],
   "source": [
    "def clean_job_decsription(jd):\n",
    "    ''' a function to create a word cloud based on the input text parameter'''\n",
    "    ## Clean the Text\n",
    "    # Lower\n",
    "    clean_jd = jd.lower()\n",
    "    # remove punctuation\n",
    "    clean_jd = re.sub(r'[^\\w\\s]', '', clean_jd)\n",
    "    # remove trailing spaces\n",
    "    clean_jd = clean_jd.strip()\n",
    "    # remove numbers\n",
    "    clean_jd = re.sub('[0-9]+', '', clean_jd)\n",
    "    # tokenize \n",
    "    clean_jd = word_tokenize(clean_jd)\n",
    "    # remove stop words\n",
    "    stop = stopwords.words('english')\n",
    "    #stop.extend([\"AT_USER\",\"URL\",\"rt\",\"corona\",\"coronavirus\",\"covid\",\"amp\",\"new\",\"th\",\"along\",\"icai\",\"would\",\"today\",\"asks\"])\n",
    "    clean_jd = [w for w in clean_jd if not w in stop] \n",
    "    \n",
    "    return(clean_jd)"
   ]
  },
  {
   "cell_type": "code",
   "execution_count": 5,
   "metadata": {},
   "outputs": [],
   "source": [
    "def create_word_cloud(jd):\n",
    "    corpus = jd\n",
    "    fdist = FreqDist(corpus)\n",
    "    #print(fdist.most_common(100))\n",
    "    words = ' '.join(corpus)\n",
    "    words = words.split()\n",
    "\n",
    "    # create a empty dictionary\n",
    "    data = dict()\n",
    "    #  Get frequency for each words where word is the key and the count is the value\n",
    "    for word in (words):\n",
    "        word = word.lower()\n",
    "        data[word] = data.get(word, 0) + 1\n",
    "    # Sort the dictionary in reverse order to print first the most used terms    \n",
    "    dict(sorted(data.items(), key=operator.itemgetter(1),reverse=True))\n",
    "    word_cloud = WordCloud(width = 800, height = 800, background_color ='white',max_words = 500)\n",
    "    word_cloud.generate_from_frequencies(data)\n",
    "    # plot the WordCloud image                        \n",
    "    plt.figure(figsize = (10, 8), edgecolor = 'k') \n",
    "    plt.imshow(word_cloud,interpolation = 'bilinear') \n",
    "    plt.axis(\"off\") \n",
    "    plt.tight_layout(pad = 0) \n",
    "    plt.show()"
   ]
  },
  {
   "cell_type": "markdown",
   "metadata": {},
   "source": [
    "### Get JD and Resume Match Score"
   ]
  },
  {
   "cell_type": "code",
   "execution_count": 6,
   "metadata": {},
   "outputs": [],
   "source": [
    "def get_resume_score(text):\n",
    "    cv = CountVectorizer(stop_words='english')\n",
    "    count_matrix = cv.fit_transform(text)\n",
    "    #Print the similarity scores\n",
    "    print(\"\\nSimilarity Scores:\")\n",
    "    #print(cosine_similarity(count_matrix))\n",
    "    #get the match percentage\n",
    "    matchPercentage = cosine_similarity(count_matrix)[0][1] * 100\n",
    "    matchPercentage = round(matchPercentage, 2) # round to two decimal\n",
    "    print(\"Your resume matches about \"+ str(matchPercentage)+ \"% of the job description.\")"
   ]
  },
  {
   "cell_type": "markdown",
   "metadata": {},
   "source": [
    "### Results of resume "
   ]
  },
  {
   "cell_type": "code",
   "execution_count": null,
   "metadata": {},
   "outputs": [],
   "source": [
    "# Example data\n",
    "resumes = ['resume text 1', 'resume text 2', 'resume text 3']\n",
    "job_description = 'job description text'\n",
    "\n",
    "# Create an empty DataFrame to store results\n",
    "results_df = pd.DataFrame(columns=['ResumeID', 'MatchPercentage'])\n",
    "\n",
    "# Loop through each resume, calculate match percentage, and store the result\n",
    "for i, resume in enumerate(resumes, start=1):\n",
    "    match_percentage = get_resume_score([resume, job_description])\n",
    "    results_df = results_df.append({'ResumeID': f'Resume{i}', 'MatchPercentage': match_percentage}, ignore_index=True)\n",
    "\n",
    "# Display the DataFrame\n",
    "print(results_df)\n",
    "\n",
    "sorted_results_df = results_df.sort_values(by='MatchPercentage', ascending=False)\n",
    "\n",
    "# Display the sorted DataFrame\n",
    "print(sorted_results_df)"
   ]
  }
 ],
 "metadata": {
  "kernelspec": {
   "display_name": "Python 3 (ipykernel)",
   "language": "python",
   "name": "python3"
  },
  "language_info": {
   "codemirror_mode": {
    "name": "ipython",
    "version": 3
   },
   "file_extension": ".py",
   "mimetype": "text/x-python",
   "name": "python",
   "nbconvert_exporter": "python",
   "pygments_lexer": "ipython3",
   "version": "3.9.7"
  }
 },
 "nbformat": 4,
 "nbformat_minor": 4
}
